{
  "nbformat": 4,
  "nbformat_minor": 0,
  "metadata": {
    "colab": {
      "provenance": [],
      "authorship_tag": "ABX9TyOgoI0/k/rftuXY7C3C7gDR"
    },
    "kernelspec": {
      "name": "python3",
      "display_name": "Python 3"
    },
    "language_info": {
      "name": "python"
    }
  },
  "cells": [
    {
      "cell_type": "markdown",
      "source": [
        "#Imports"
      ],
      "metadata": {
        "id": "MPOKTJee1xvE"
      }
    },
    {
      "cell_type": "code",
      "source": [
        "#Instalaciones para descargar las imágenes al entorno\n",
        "!pip install gdown --upgrade --no-cache-dir\n",
        "!pip install google-api-python-client google-auth-httplib2 google-auth-oauthlib"
      ],
      "metadata": {
        "colab": {
          "base_uri": "https://localhost:8080/"
        },
        "id": "4q8j1NX75fft",
        "outputId": "efb58df3-d7e4-400f-dc24-3a2e8e3016d1"
      },
      "execution_count": 1,
      "outputs": [
        {
          "output_type": "stream",
          "name": "stdout",
          "text": [
            "Requirement already satisfied: gdown in /usr/local/lib/python3.11/dist-packages (5.2.0)\n",
            "Requirement already satisfied: beautifulsoup4 in /usr/local/lib/python3.11/dist-packages (from gdown) (4.13.4)\n",
            "Requirement already satisfied: filelock in /usr/local/lib/python3.11/dist-packages (from gdown) (3.18.0)\n",
            "Requirement already satisfied: requests[socks] in /usr/local/lib/python3.11/dist-packages (from gdown) (2.32.3)\n",
            "Requirement already satisfied: tqdm in /usr/local/lib/python3.11/dist-packages (from gdown) (4.67.1)\n",
            "Requirement already satisfied: soupsieve>1.2 in /usr/local/lib/python3.11/dist-packages (from beautifulsoup4->gdown) (2.7)\n",
            "Requirement already satisfied: typing-extensions>=4.0.0 in /usr/local/lib/python3.11/dist-packages (from beautifulsoup4->gdown) (4.13.2)\n",
            "Requirement already satisfied: charset-normalizer<4,>=2 in /usr/local/lib/python3.11/dist-packages (from requests[socks]->gdown) (3.4.1)\n",
            "Requirement already satisfied: idna<4,>=2.5 in /usr/local/lib/python3.11/dist-packages (from requests[socks]->gdown) (3.10)\n",
            "Requirement already satisfied: urllib3<3,>=1.21.1 in /usr/local/lib/python3.11/dist-packages (from requests[socks]->gdown) (2.4.0)\n",
            "Requirement already satisfied: certifi>=2017.4.17 in /usr/local/lib/python3.11/dist-packages (from requests[socks]->gdown) (2025.4.26)\n",
            "Requirement already satisfied: PySocks!=1.5.7,>=1.5.6 in /usr/local/lib/python3.11/dist-packages (from requests[socks]->gdown) (1.7.1)\n",
            "Requirement already satisfied: google-api-python-client in /usr/local/lib/python3.11/dist-packages (2.169.0)\n",
            "Requirement already satisfied: google-auth-httplib2 in /usr/local/lib/python3.11/dist-packages (0.2.0)\n",
            "Requirement already satisfied: google-auth-oauthlib in /usr/local/lib/python3.11/dist-packages (1.2.2)\n",
            "Requirement already satisfied: httplib2<1.0.0,>=0.19.0 in /usr/local/lib/python3.11/dist-packages (from google-api-python-client) (0.22.0)\n",
            "Requirement already satisfied: google-auth!=2.24.0,!=2.25.0,<3.0.0,>=1.32.0 in /usr/local/lib/python3.11/dist-packages (from google-api-python-client) (2.38.0)\n",
            "Requirement already satisfied: google-api-core!=2.0.*,!=2.1.*,!=2.2.*,!=2.3.0,<3.0.0,>=1.31.5 in /usr/local/lib/python3.11/dist-packages (from google-api-python-client) (2.24.2)\n",
            "Requirement already satisfied: uritemplate<5,>=3.0.1 in /usr/local/lib/python3.11/dist-packages (from google-api-python-client) (4.1.1)\n",
            "Requirement already satisfied: requests-oauthlib>=0.7.0 in /usr/local/lib/python3.11/dist-packages (from google-auth-oauthlib) (2.0.0)\n",
            "Requirement already satisfied: googleapis-common-protos<2.0.0,>=1.56.2 in /usr/local/lib/python3.11/dist-packages (from google-api-core!=2.0.*,!=2.1.*,!=2.2.*,!=2.3.0,<3.0.0,>=1.31.5->google-api-python-client) (1.70.0)\n",
            "Requirement already satisfied: protobuf!=3.20.0,!=3.20.1,!=4.21.0,!=4.21.1,!=4.21.2,!=4.21.3,!=4.21.4,!=4.21.5,<7.0.0,>=3.19.5 in /usr/local/lib/python3.11/dist-packages (from google-api-core!=2.0.*,!=2.1.*,!=2.2.*,!=2.3.0,<3.0.0,>=1.31.5->google-api-python-client) (5.29.4)\n",
            "Requirement already satisfied: proto-plus<2.0.0,>=1.22.3 in /usr/local/lib/python3.11/dist-packages (from google-api-core!=2.0.*,!=2.1.*,!=2.2.*,!=2.3.0,<3.0.0,>=1.31.5->google-api-python-client) (1.26.1)\n",
            "Requirement already satisfied: requests<3.0.0,>=2.18.0 in /usr/local/lib/python3.11/dist-packages (from google-api-core!=2.0.*,!=2.1.*,!=2.2.*,!=2.3.0,<3.0.0,>=1.31.5->google-api-python-client) (2.32.3)\n",
            "Requirement already satisfied: cachetools<6.0,>=2.0.0 in /usr/local/lib/python3.11/dist-packages (from google-auth!=2.24.0,!=2.25.0,<3.0.0,>=1.32.0->google-api-python-client) (5.5.2)\n",
            "Requirement already satisfied: pyasn1-modules>=0.2.1 in /usr/local/lib/python3.11/dist-packages (from google-auth!=2.24.0,!=2.25.0,<3.0.0,>=1.32.0->google-api-python-client) (0.4.2)\n",
            "Requirement already satisfied: rsa<5,>=3.1.4 in /usr/local/lib/python3.11/dist-packages (from google-auth!=2.24.0,!=2.25.0,<3.0.0,>=1.32.0->google-api-python-client) (4.9.1)\n",
            "Requirement already satisfied: pyparsing!=3.0.0,!=3.0.1,!=3.0.2,!=3.0.3,<4,>=2.4.2 in /usr/local/lib/python3.11/dist-packages (from httplib2<1.0.0,>=0.19.0->google-api-python-client) (3.2.3)\n",
            "Requirement already satisfied: oauthlib>=3.0.0 in /usr/local/lib/python3.11/dist-packages (from requests-oauthlib>=0.7.0->google-auth-oauthlib) (3.2.2)\n",
            "Requirement already satisfied: pyasn1<0.7.0,>=0.6.1 in /usr/local/lib/python3.11/dist-packages (from pyasn1-modules>=0.2.1->google-auth!=2.24.0,!=2.25.0,<3.0.0,>=1.32.0->google-api-python-client) (0.6.1)\n",
            "Requirement already satisfied: charset-normalizer<4,>=2 in /usr/local/lib/python3.11/dist-packages (from requests<3.0.0,>=2.18.0->google-api-core!=2.0.*,!=2.1.*,!=2.2.*,!=2.3.0,<3.0.0,>=1.31.5->google-api-python-client) (3.4.1)\n",
            "Requirement already satisfied: idna<4,>=2.5 in /usr/local/lib/python3.11/dist-packages (from requests<3.0.0,>=2.18.0->google-api-core!=2.0.*,!=2.1.*,!=2.2.*,!=2.3.0,<3.0.0,>=1.31.5->google-api-python-client) (3.10)\n",
            "Requirement already satisfied: urllib3<3,>=1.21.1 in /usr/local/lib/python3.11/dist-packages (from requests<3.0.0,>=2.18.0->google-api-core!=2.0.*,!=2.1.*,!=2.2.*,!=2.3.0,<3.0.0,>=1.31.5->google-api-python-client) (2.4.0)\n",
            "Requirement already satisfied: certifi>=2017.4.17 in /usr/local/lib/python3.11/dist-packages (from requests<3.0.0,>=2.18.0->google-api-core!=2.0.*,!=2.1.*,!=2.2.*,!=2.3.0,<3.0.0,>=1.31.5->google-api-python-client) (2025.4.26)\n"
          ]
        }
      ]
    },
    {
      "cell_type": "code",
      "execution_count": 9,
      "metadata": {
        "id": "AVUuj5gYHl73"
      },
      "outputs": [],
      "source": [
        "#Imports\n",
        "from google.colab import auth\n",
        "from googleapiclient.discovery import build\n",
        "import pandas as pd\n",
        "import gdown\n",
        "import io\n",
        "import os\n",
        "from googleapiclient.http import MediaIoBaseDownload\n",
        "\n",
        "from torchvision import datasets, transforms\n",
        "from torch.utils.data import DataLoader\n",
        "import shutil\n",
        "import random\n",
        "from PIL import Image\n",
        "from torchvision import transforms"
      ]
    },
    {
      "cell_type": "markdown",
      "source": [
        "# Crear dataset"
      ],
      "metadata": {
        "id": "4w56ci9V12ad"
      }
    },
    {
      "cell_type": "code",
      "source": [
        "#Preparar el entorno para descargar los archivos\n",
        "auth.authenticate_user()\n",
        "drive_service = build('drive', 'v3')\n",
        "\n",
        "#Links de acceso público a las carpetas con las imágenes\n",
        "folder_ia = '14xM8jjGl7QPMDUkti6iUl4M1m6qcs4L1'\n",
        "folder_real = '1ruvbcczrUZ2W6rmmC7TvLUQxtOD_Cg3J'\n",
        "\n",
        "#Función para descargar las imágenes al entorno\n",
        "def download_files_from_folder(folder_id, output_folder):\n",
        "  query = f\"'{folder_id}' in parents\"\n",
        "  results = drive_service.files().list(q=query, fields='nextPageToken, files(id, name)').execute()\n",
        "  items = results.get('files', [])\n",
        "\n",
        "  if not items:\n",
        "    print('No hay archivos en la carpeta.')\n",
        "    return\n",
        "\n",
        "  os.makedirs(output_folder, exist_ok=True)\n",
        "\n",
        "  for item in items:\n",
        "    file_id = item['id']\n",
        "    file_name = item['name']\n",
        "    request = drive_service.files().get_media(fileId=file_id)\n",
        "    fh = io.BytesIO()\n",
        "    downloader = MediaIoBaseDownload(fh, request)\n",
        "    done = False\n",
        "    while not done:\n",
        "      status, done = downloader.next_chunk()\n",
        "    with open(os.path.join(output_folder, file_name), 'wb') as f:\n",
        "      f.write(fh.getbuffer())\n",
        "\n",
        "# Call the function to download the files\n",
        "download_files_from_folder(folder_ia, 'fotos_ia')\n",
        "print(f\"Carpeta fotos_ia completada.\")\n",
        "download_files_from_folder(folder_real, 'fotos_real')\n",
        "print(f\"Carpeta fotos_real completada.\")"
      ],
      "metadata": {
        "colab": {
          "base_uri": "https://localhost:8080/"
        },
        "id": "V70gSCOW5odJ",
        "outputId": "a2da56b9-f725-48f9-f2a6-68e743a200be"
      },
      "execution_count": 3,
      "outputs": [
        {
          "output_type": "stream",
          "name": "stdout",
          "text": [
            "Carpeta fotos_ia completada.\n",
            "Carpeta fotos_real completada.\n"
          ]
        }
      ]
    },
    {
      "cell_type": "code",
      "source": [
        "###Resize las imagenes para que tengan las mismas dimensiones\n",
        "\n",
        "carpetas = {\n",
        "    'real': '/content/fotos_real',\n",
        "    'ia': '/content/fotos_ia'\n",
        "}\n",
        "os.makedirs('/content/resize', exist_ok=True)\n",
        "\n",
        "transform = transforms.Compose([\n",
        "    transforms.Resize((224, 224)),\n",
        "    transforms.ToTensor(),\n",
        "    transforms.ToPILImage()\n",
        "])\n",
        "\n",
        "\n",
        "for nombre, path in carpetas.items():\n",
        "    os.makedirs(f\"resize/{nombre}\", exist_ok=True)\n",
        "\n",
        "    for nombre_imagen in os.listdir(path):\n",
        "        ruta_img = os.path.join(path, nombre_imagen)\n",
        "        try:\n",
        "            with Image.open(ruta_img) as img:\n",
        "                img = img.convert('RGB')\n",
        "                img_transformada = transform(img)\n",
        "                img_transformada.save(os.path.join(f\"resize/{nombre}\", nombre_imagen))\n",
        "\n",
        "        except Exception as e:\n",
        "            print(f\"Error procesando {ruta_img}: {e}\")\n"
      ],
      "metadata": {
        "id": "UX6IVO_lwO5k"
      },
      "execution_count": 20,
      "outputs": []
    },
    {
      "cell_type": "code",
      "source": [
        "#Crear dataset final\n",
        "carpetas = {\n",
        "    'real': '/content/resize/real',\n",
        "    'ia': '/content/resize/ia'\n",
        "}\n",
        "\n",
        "#Crear carpetas de sets --> datasets>[train>[real, ia], test>[real, ia], val>[real, ia]]\n",
        "os.makedirs(f\"dataset\", exist_ok=True)\n",
        "for sets in ['train', 'test', 'val']:\n",
        "  for origen in ['real', 'ia']:\n",
        "    os.makedirs(f\"dataset/{sets}/{origen}\", exist_ok=True)\n",
        "\n",
        "#Guardar las fotos en las imagenes en su respectiva carpeta\n",
        "for nombre, path in carpetas.items():\n",
        "  imagenes = os.listdir(path)\n",
        "\n",
        "  #Las imágenes reales están ordenadas por edad, queremos evitar que un set contenga solo un rango de\n",
        "  random.shuffle(imagenes)\n",
        "\n",
        "  train = imagenes[:int(len(imagenes)*0.7)] #70% de contenido para el training set\n",
        "  val = imagenes[:int(len(imagenes)*0.15)] #15% de contenido para el validation set\n",
        "  test = imagenes[(int(len(imagenes)*0.7) + int(len(imagenes)*0.15)):] #15% de contenido para el test set\n",
        "\n",
        "  for foto in train:\n",
        "    shutil.copy(os.path.join(path, foto), f\"dataset/train/{nombre}/{foto}\")\n",
        "\n",
        "  for foto in val:\n",
        "    shutil.copy(os.path.join(path, foto), f\"dataset/val/{nombre}/{foto}\")\n",
        "\n",
        "  for foto in test:\n",
        "    shutil.copy(os.path.join(path, foto), f\"dataset/test/{nombre}/{foto}\")"
      ],
      "metadata": {
        "id": "l2DayrDm-oxm"
      },
      "execution_count": 22,
      "outputs": []
    },
    {
      "cell_type": "markdown",
      "source": [
        "# Debug"
      ],
      "metadata": {
        "id": "FOeAcBnY195a"
      }
    },
    {
      "cell_type": "code",
      "source": [
        "###DEBUG --> borrar los contenidos de una carpeta###\n",
        "import os\n",
        "import shutil\n",
        "\n",
        "carpeta = \"/content/dataset\"\n",
        "\n",
        "for archivo in os.listdir(carpeta):\n",
        "    ruta_completa = os.path.join(carpeta, archivo)\n",
        "    if os.path.isfile(ruta_completa) or os.path.islink(ruta_completa):\n",
        "        os.unlink(ruta_completa)\n",
        "    elif os.path.isdir(ruta_completa):\n",
        "        shutil.rmtree(ruta_completa)\n"
      ],
      "metadata": {
        "id": "-GPP3NDcLRly"
      },
      "execution_count": 19,
      "outputs": []
    }
  ]
}